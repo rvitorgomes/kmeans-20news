{
 "cells": [
  {
   "cell_type": "code",
   "execution_count": 13,
   "metadata": {},
   "outputs": [
    {
     "name": "stdout",
     "output_type": "stream",
     "text": [
      "[nltk_data] Downloading package stopwords to /home/rgomes/nltk_data...\n",
      "[nltk_data]   Package stopwords is already up-to-date!\n",
      "Automatically created module for IPython interactive environment\n"
     ]
    }
   ],
   "source": [
    "#Importing the dependencies\n",
    "import re, string, unicodedata, itertools, random, os, glob, math, time, json\n",
    "import pickle\n",
    "import nltk\n",
    "from nltk import SnowballStemmer\n",
    "nltk.download('stopwords')\n",
    "from nltk.corpus import stopwords\n",
    "\n",
    "import numpy as np\n",
    "import pandas as pd\n",
    "from sklearn.cluster import KMeans\n",
    "from sklearn.metrics import silhouette_samples, silhouette_score\n",
    "from scipy.spatial import distance_matrix\n",
    "from sklearn.decomposition import PCA\n",
    "from sklearn.datasets import fetch_20newsgroups\n",
    "from sklearn.feature_extraction.text import TfidfVectorizer, TfidfTransformer, CountVectorizer\n",
    "\n",
    "from __future__ import print_function\n",
    "print(__doc__)\n",
    "\n",
    "%matplotlib inline\n",
    "from matplotlib import pyplot as plt\n",
    "import matplotlib.cm as cm\n",
    "plt.rcParams['figure.figsize'] = (24, 9)\n",
    "plt.style.use('ggplot')"
   ]
  },
  {
   "cell_type": "markdown",
   "metadata": {},
   "source": [
    "# Pré processing the corpora\n",
    "The first step that we used was to remove special characters\n",
    "such as ”#”, ”@”, and ”/” and irrelevant information such\n",
    "as email addresses and numbers.\n",
    "\n",
    "Then, we used\n",
    "tokenization the text to read words and check whether these\n",
    "were relevant or irrelevant term. We ignored the subject header,\n",
    "email addresses, numbers, and punctuation\n",
    "The next step that we applied was the removal of stop\n",
    "words.\n",
    "\n",
    "The third step was a word stemmer."
   ]
  },
  {
   "cell_type": "code",
   "execution_count": 14,
   "metadata": {},
   "outputs": [],
   "source": [
    "def remove_non_ascii(words):\n",
    "    \"\"\"Remove non-ASCII characters from list of tokenized words\"\"\"\n",
    "    new_words = []\n",
    "    for word in words:\n",
    "        new_word = unicodedata.normalize('NFKD', word).encode('ascii', 'ignore').decode('utf-8', 'ignore')\n",
    "        new_words.append(new_word)\n",
    "    return new_words\n",
    "\n",
    "def to_lowercase(words):\n",
    "    \"\"\"Convert all characters to lowercase from list of tokenized words\"\"\"\n",
    "    new_words = []\n",
    "    for word in words:\n",
    "        new_word = word.lower()\n",
    "        new_words.append(new_word)\n",
    "    return new_words\n",
    "\n",
    "def remove_punctuation(words):\n",
    "    \"\"\"Remove punctuation from list of tokenized words\"\"\"\n",
    "    new_words = []\n",
    "    for word in words:\n",
    "        new_word = re.sub(r'[^\\w\\s]', '', word)\n",
    "        if new_word != '':\n",
    "            new_words.append(new_word)\n",
    "    return new_words\n",
    "\n",
    "def replace_numbers(words):\n",
    "    new_words = []\n",
    "    for word in words:\n",
    "        new_word = re.sub(r'[0-9]', '', word)\n",
    "        if new_word != '':\n",
    "            new_words.append(new_word)\n",
    "    return new_words\n",
    "\n",
    "def remove_stopwords(words):\n",
    "    \"\"\"Remove stop words from list of tokenized words\"\"\"\n",
    "    new_words = []\n",
    "    for word in words:\n",
    "        if word not in stopwords.words('english'):\n",
    "            new_words.append(word)\n",
    "    return new_words\n",
    "\n",
    "def stemming(words):\n",
    "    \"\"\"Reduce words to radical\"\"\"\n",
    "    stemmer = SnowballStemmer('english')\n",
    "    new_words = []\n",
    "    for word in words:\n",
    "        new_word = stemmer.stem(word)\n",
    "        new_words.append(new_word)\n",
    "    return new_words\n",
    "\n",
    "def trimAndClear(words):    \n",
    "    \"\"\"Remove words with only 2 letters, whitespace and empty\"\"\"\n",
    "    new_words = map(lambda w : w.strip(), words)\n",
    "    new_words = list(filter(lambda w: w != '' and len(w) > 2, new_words))\n",
    "    return new_words\n",
    "\n",
    "def normalize(words):\n",
    "    words = remove_non_ascii(words)\n",
    "    words = to_lowercase(words)\n",
    "    words = remove_punctuation(words)\n",
    "    words = replace_numbers(words)\n",
    "    words = remove_stopwords(words)\n",
    "    words = stemming(words)\n",
    "    words = trimAndClear(words)\n",
    "    return words"
   ]
  },
  {
   "cell_type": "code",
   "execution_count": 15,
   "metadata": {},
   "outputs": [],
   "source": [
    "def loadCorpus(files):\n",
    "    vocabulary = set()\n",
    "    \n",
    "    # build the vocabulary\n",
    "    for filename in files:\n",
    "        with open(filename, 'rb') as f:\n",
    "            print('Loading', filename)\n",
    "            \n",
    "            for line in f:\n",
    "                # transform unicode text to utf8 and ignore the erros\n",
    "                # the breaklines will be removed on processing\n",
    "                line = line.decode(\"utf-8\", \"ignore\")\n",
    "                \n",
    "                if re.match('^(Newsgroup:|Document_id:|From:|Subject:)', line) is None:\n",
    "\n",
    "                    # save in vocabulary the normalized words\n",
    "                    tokens = line.split(' ')\n",
    "                    words = normalize(tokens)\n",
    "                    \n",
    "                    vocabulary.update(words)\n",
    "    \n",
    "    # save as pickle\n",
    "    print('Saving', len(vocabulary), 'unique words')\n",
    "    tokens_file = open('tokens_vector.pkl', 'wb')\n",
    "    pickle.dump(list(vocabulary), tokens_file)\n",
    "    print('saved...')\n",
    "    \n",
    "    return list(vocabulary)"
   ]
  },
  {
   "cell_type": "code",
   "execution_count": 39,
   "metadata": {},
   "outputs": [],
   "source": [
    "docs = []\n",
    "voc = set()\n",
    "with open('talk.religion.misc.txt', 'rb') as f:\n",
    "    index = 0\n",
    "    tmp = []\n",
    "    for line in f:\n",
    "        # readline\n",
    "        line = line.decode(\"utf-8\", \"ignore\")\n",
    "        \n",
    "        if re.match('^(Newsgroup:)', line):\n",
    "            # email found\n",
    "   \n",
    "            # save the full email readble\n",
    "            email = ' '.join(list(itertools.chain.from_iterable(tmp)))\n",
    "            if email != ' ':\n",
    "                docs.append(email)\n",
    "            \n",
    "            index = 0\n",
    "            tmp = []\n",
    "            \n",
    "        index += 1\n",
    "           \n",
    "        # achei o header\n",
    "        # pula 3 linhas\n",
    "        if index > 4:\n",
    "            # read the email\n",
    "            tokens = line.split(' ')\n",
    "            words = normalize(tokens)\n",
    "\n",
    "            voc.update(words)\n",
    "            tmp.append(words)       "
   ]
  },
  {
   "cell_type": "code",
   "execution_count": 46,
   "metadata": {},
   "outputs": [],
   "source": [
    "def tf(term, document):\n",
    "    return freq(term, document)\n",
    "\n",
    "def freq(term, document):\n",
    "    return document.split().count(term)"
   ]
  },
  {
   "cell_type": "code",
   "execution_count": 43,
   "metadata": {},
   "outputs": [
    {
     "name": "stdout",
     "output_type": "stream",
     "text": [
      "12187\n",
      "1255\n"
     ]
    },
    {
     "ename": "AttributeError",
     "evalue": "'list' object has no attribute 'shape'",
     "output_type": "error",
     "traceback": [
      "\u001b[0;31m---------------------------------------------------------------------------\u001b[0m",
      "\u001b[0;31mAttributeError\u001b[0m                            Traceback (most recent call last)",
      "\u001b[0;32m<ipython-input-43-2f367f4df740>\u001b[0m in \u001b[0;36m<module>\u001b[0;34m()\u001b[0m\n\u001b[1;32m     13\u001b[0m     \u001b[0mtf_matrix\u001b[0m\u001b[0;34m.\u001b[0m\u001b[0mappend\u001b[0m\u001b[0;34m(\u001b[0m\u001b[0mtf_vector\u001b[0m\u001b[0;34m)\u001b[0m\u001b[0;34m\u001b[0m\u001b[0m\n\u001b[1;32m     14\u001b[0m \u001b[0;34m\u001b[0m\u001b[0m\n\u001b[0;32m---> 15\u001b[0;31m \u001b[0mprint\u001b[0m\u001b[0;34m(\u001b[0m\u001b[0mtf_matrix\u001b[0m\u001b[0;34m.\u001b[0m\u001b[0mshape\u001b[0m\u001b[0;34m)\u001b[0m\u001b[0;34m\u001b[0m\u001b[0m\n\u001b[0m",
      "\u001b[0;31mAttributeError\u001b[0m: 'list' object has no attribute 'shape'"
     ]
    }
   ],
   "source": [
    "print(len(voc))\n",
    "print(len(docs))\n",
    "#print(docs[:10])\n",
    "\n",
    "tf_matrix = []\n",
    "\n",
    "for doc in docs:\n",
    "    \n",
    "    #print('The doc is \"' + doc + '\"')\n",
    "    tf_vector = [tf(word, doc) for word in voc]\n",
    "    #tf_vector_string = ', '.join(format(freq, 'd') for freq in tf_vector)\n",
    "    #print('The tf vector for Document %d is [%s]' % ((docs.index(doc)+1), tf_vector_string))\n",
    "    tf_matrix.append(tf_vector)\n",
    "    \n",
    "print(np.shape(tf_matrix))"
   ]
  },
  {
   "cell_type": "code",
   "execution_count": 47,
   "metadata": {},
   "outputs": [
    {
     "name": "stdout",
     "output_type": "stream",
     "text": [
      "saving tf matrix...\n",
      "saved\n"
     ]
    }
   ],
   "source": [
    "print('saving tf matrix...')\n",
    "np.savetxt('tf_matrix.txt', tf_matrix)\n",
    "print('saved')"
   ]
  },
  {
   "cell_type": "code",
   "execution_count": 340,
   "metadata": {},
   "outputs": [
    {
     "name": "stdout",
     "output_type": "stream",
     "text": [
      "{'you', 'rubens', 'im', 'can', 'me', 'to', 'nice', 'talk', 'later?', 'glad', 'we', 'too', 'meet', 'hello'}\n",
      "['hello im rubens im glad to talk to you', 'me too nice to meet you can we talk later?']\n",
      "The doc is \"hello im rubens im glad to talk to you\"\n",
      "The tf vector for Document 1 is [1, 1, 2, 0, 0, 2, 0, 1, 0, 1, 0, 0, 0, 1]\n",
      "The doc is \"me too nice to meet you can we talk later?\"\n",
      "The tf vector for Document 2 is [1, 0, 0, 1, 1, 1, 1, 1, 1, 0, 1, 1, 1, 0]\n",
      "[[1, 1, 2, 0, 0, 2, 0, 1, 0, 1, 0, 0, 0, 1], [1, 0, 0, 1, 1, 1, 1, 1, 1, 0, 1, 1, 1, 0]]\n"
     ]
    }
   ],
   "source": [
    "a = 'hello im rubens im glad to talk to you'\n",
    "b = 'me too nice to meet you can we talk later?'\n",
    "\n",
    "a = a.split(' ')\n",
    "b = b.split(' ')\n",
    "voc = set()\n",
    "voc.update(a)\n",
    "voc.update(b)\n",
    "print(voc)\n",
    "\n",
    "t = []\n",
    "t.append(' '.join(a))\n",
    "t.append(' '.join(b))\n",
    "print(t)\n",
    "\n",
    "tf_matrix = []\n",
    "\n",
    "for doc in t:\n",
    "    print('The doc is \"' + doc + '\"')\n",
    "    tf_vector = [tf(word, doc) for word in voc]\n",
    "    tf_vector_string = ', '.join(format(freq, 'd') for freq in tf_vector)\n",
    "    print('The tf vector for Document %d is [%s]' % ((t.index(doc)+1), tf_vector_string))\n",
    "    tf_matrix.append(tf_vector)\n",
    "\n",
    "print(tf_matrix)"
   ]
  },
  {
   "cell_type": "code",
   "execution_count": 48,
   "metadata": {},
   "outputs": [],
   "source": [
    "import math\n",
    "\n",
    "def l2_normalizer(vec):\n",
    "    denom = np.sum([el**2 for el in vec])\n",
    "    return [(el / math.sqrt(denom)) for el in vec]\n",
    "\n",
    "doc_term_matrix_l2 = []\n",
    "for vec in tf_matrix:\n",
    "    doc_term_matrix_l2.append(l2_normalizer(vec))"
   ]
  },
  {
   "cell_type": "code",
   "execution_count": 49,
   "metadata": {},
   "outputs": [
    {
     "name": "stdout",
     "output_type": "stream",
     "text": [
      "saving tf matrix normalized...\n",
      "saved\n"
     ]
    }
   ],
   "source": [
    "print(doc_term_matrix_l2[0])\n",
    "print('saving tf matrix normalized...')\n",
    "np.savetxt('tf_matrix_normalized.txt', doc_term_matrix_l2)\n",
    "print('saved')"
   ]
  },
  {
   "cell_type": "code",
   "execution_count": 348,
   "metadata": {},
   "outputs": [
    {
     "name": "stdout",
     "output_type": "stream",
     "text": [
      "[1.3862943611198906, 1.0986122886681098, 1.0986122886681098, 1.0986122886681098, 1.0986122886681098, 1.3862943611198906, 1.0986122886681098, 1.3862943611198906, 1.0986122886681098, 1.0986122886681098, 1.0986122886681098, 1.0986122886681098, 1.0986122886681098, 1.0986122886681098]\n"
     ]
    }
   ],
   "source": [
    "def numDocsContaining(word, doclist):\n",
    "    doccount = 0\n",
    "    for doc in doclist:\n",
    "        if freq(word, doc) > 0:\n",
    "            doccount +=1\n",
    "    return doccount \n",
    "\n",
    "def idf(word, doclist):\n",
    "    n_samples = len(doclist)\n",
    "    df = numDocsContaining(word, doclist)\n",
    "    return np.log(n_samples / 1+df)\n",
    "\n",
    "my_idf_vector = [idf(word, t) for word in voc]\n",
    "print(my_idf_vector)"
   ]
  },
  {
   "cell_type": "code",
   "execution_count": 354,
   "metadata": {},
   "outputs": [
    {
     "name": "stdout",
     "output_type": "stream",
     "text": [
      "[[1.38629436 0.         0.         0.         0.         0.\n",
      "  0.         0.         0.         0.         0.         0.\n",
      "  0.         0.        ]\n",
      " [0.         1.09861229 0.         0.         0.         0.\n",
      "  0.         0.         0.         0.         0.         0.\n",
      "  0.         0.        ]\n",
      " [0.         0.         1.09861229 0.         0.         0.\n",
      "  0.         0.         0.         0.         0.         0.\n",
      "  0.         0.        ]\n",
      " [0.         0.         0.         1.09861229 0.         0.\n",
      "  0.         0.         0.         0.         0.         0.\n",
      "  0.         0.        ]\n",
      " [0.         0.         0.         0.         1.09861229 0.\n",
      "  0.         0.         0.         0.         0.         0.\n",
      "  0.         0.        ]\n",
      " [0.         0.         0.         0.         0.         1.38629436\n",
      "  0.         0.         0.         0.         0.         0.\n",
      "  0.         0.        ]\n",
      " [0.         0.         0.         0.         0.         0.\n",
      "  1.09861229 0.         0.         0.         0.         0.\n",
      "  0.         0.        ]\n",
      " [0.         0.         0.         0.         0.         0.\n",
      "  0.         1.38629436 0.         0.         0.         0.\n",
      "  0.         0.        ]\n",
      " [0.         0.         0.         0.         0.         0.\n",
      "  0.         0.         1.09861229 0.         0.         0.\n",
      "  0.         0.        ]\n",
      " [0.         0.         0.         0.         0.         0.\n",
      "  0.         0.         0.         1.09861229 0.         0.\n",
      "  0.         0.        ]\n",
      " [0.         0.         0.         0.         0.         0.\n",
      "  0.         0.         0.         0.         1.09861229 0.\n",
      "  0.         0.        ]\n",
      " [0.         0.         0.         0.         0.         0.\n",
      "  0.         0.         0.         0.         0.         1.09861229\n",
      "  0.         0.        ]\n",
      " [0.         0.         0.         0.         0.         0.\n",
      "  0.         0.         0.         0.         0.         0.\n",
      "  1.09861229 0.        ]\n",
      " [0.         0.         0.         0.         0.         0.\n",
      "  0.         0.         0.         0.         0.         0.\n",
      "  0.         1.09861229]]\n"
     ]
    }
   ],
   "source": [
    "def build_idf_matrix(idf_vector):\n",
    "    idf_mat = np.zeros((len(idf_vector), len(idf_vector)))\n",
    "    np.fill_diagonal(idf_mat, idf_vector)\n",
    "    return idf_mat\n",
    "\n",
    "my_idf_matrix = build_idf_matrix(my_idf_vector)\n",
    "print(my_idf_matrix)"
   ]
  },
  {
   "cell_type": "code",
   "execution_count": 359,
   "metadata": {},
   "outputs": [
    {
     "name": "stdout",
     "output_type": "stream",
     "text": [
      "14\n",
      "(2, 14)\n"
     ]
    }
   ],
   "source": [
    "doc_term_matrix_tfidf = []\n",
    "\n",
    "#performing tf-idf matrix multiplication\n",
    "for tf_vector in tf_matrix:\n",
    "    doc_term_matrix_tfidf.append(np.dot(tf_vector, my_idf_matrix))\n",
    "\n",
    "#normalizing\n",
    "doc_term_matrix_tfidf_l2 = []\n",
    "for tf_vector in doc_term_matrix_tfidf:\n",
    "    doc_term_matrix_tfidf_l2.append(l2_normalizer(tf_vector))\n",
    "                                    \n",
    "print(len(voc))\n",
    "print(np.shape(np.matrix(doc_term_matrix_tfidf_l2)))"
   ]
  },
  {
   "cell_type": "code",
   "execution_count": 277,
   "metadata": {},
   "outputs": [],
   "source": [
    "def hist(l):\n",
    "    d={}\n",
    "    for i in l:\n",
    "        if i in d:\n",
    "            d[i] += 1\n",
    "        else: \n",
    "            d[i] = 1\n",
    "    return d"
   ]
  },
  {
   "cell_type": "code",
   "execution_count": 281,
   "metadata": {},
   "outputs": [],
   "source": [
    "# count(word, document) / len(document) – term frequency\n",
    "def tf_scores(words):\n",
    "    scores = dict({})\n",
    "\n",
    "    # calculate the times of a word on the vocabulary\n",
    "    for w in words:\n",
    "        if w in scores:\n",
    "            scores[w] += 1\n",
    "        else: \n",
    "            scores[w] = 1\n",
    "\n",
    "    for key, value in scores.items():\n",
    "        scores[key] = value\n",
    "    return scores"
   ]
  },
  {
   "cell_type": "code",
   "execution_count": 279,
   "metadata": {},
   "outputs": [],
   "source": [
    "# log( len(collection) / count(document_containing_term, collection) – inverse document frequency )\n",
    "def idf_scores(words, tf, N_DOCUMENTS):\n",
    "    scores= dict({})\n",
    "    \n",
    "    # calculates for each unique word\n",
    "    for word, tf in tf.items():\n",
    "        scores[word] = math.log(N_DOCUMENTS / float(1 + tf))\n",
    "    return scores"
   ]
  },
  {
   "cell_type": "code",
   "execution_count": 280,
   "metadata": {},
   "outputs": [],
   "source": [
    "# tf * idf – term frequency – inverse document frequency\n",
    "def tfidf_scores(words, tf, idf):\n",
    "    scores = dict({})\n",
    "    \n",
    "    # calculates for each unique word\n",
    "    for word, tf in tf.items():\n",
    "        scores[word] = tf * idf[word]\n",
    "    return scores"
   ]
  },
  {
   "cell_type": "code",
   "execution_count": 272,
   "metadata": {},
   "outputs": [],
   "source": [
    "# Build the representation matrix based on a metric (tf, idf, tfidf)\n",
    "# matrix m x n MUST be m > n\n",
    "def getScoreMatrix(data, score_dict, min_score=-999999999, max_score=999999999, max_features = 100):\n",
    "    print('building matrix')\n",
    "    # prevent few rows and \n",
    "    if max_features > np.shape(data)[0]:\n",
    "        print('ERROR: wrap works for fill the diagonal when (m x n) where m != n and m > n')\n",
    "        print('The minimum clustering algorithm is N datapoints for N features')\n",
    "    \n",
    "    print(len(score_dict), 'features initally')\n",
    "    \n",
    "    features = score_dict\n",
    "    \n",
    "    # start by filtering the features\n",
    "    features = dict(filter(lambda x: x[1] >= min_score and x[1] <= max_score, features.items()))\n",
    "\n",
    "    print(len(features), 'features filtered')\n",
    "                    \n",
    "    scoreMatrix = np.array(np.zeros((len(data),len(features))))\n",
    "    \n",
    "    for row in data:    \n",
    "        for word, score in features.items():\n",
    "            #print(word, score)\n",
    "            # wrap works for fill the diagonal when (m x n) where m != n and m > n \n",
    "            np.fill_diagonal(scoreMatrix, score, wrap=True) \n",
    "            \n",
    "    return scoreMatrix"
   ]
  },
  {
   "cell_type": "code",
   "execution_count": 269,
   "metadata": {},
   "outputs": [],
   "source": [
    "def writeTf(data, tf):\n",
    "    TF = getScoreMatrix(data, tf, min_score=0.001)\n",
    "    #, min_score=0.001, max_score=0.004\n",
    "    print('saving tf matrix...')\n",
    "    np.savetxt('tf_matrix.txt', TF, fmt='%.2f')\n",
    "    print('saved')"
   ]
  },
  {
   "cell_type": "code",
   "execution_count": 247,
   "metadata": {},
   "outputs": [],
   "source": [
    "def writeTfIdf(data, tfidf):\n",
    "    TFIDF = getScoreMatrix(data, tfidf, min_score=0.0001, max_score=0.001) \n",
    "\n",
    "    print('saving tfidf matrix...')\n",
    "    np.savetxt('tfidf_matrix.txt', TFIDF, fmt='%.2f')\n",
    "    print('saved')"
   ]
  },
  {
   "cell_type": "code",
   "execution_count": null,
   "metadata": {},
   "outputs": [],
   "source": []
  },
  {
   "cell_type": "code",
   "execution_count": 361,
   "metadata": {
    "scrolled": true
   },
   "outputs": [
    {
     "name": "stdout",
     "output_type": "stream",
     "text": [
      "Welcome to Preprocessing\n",
      "Loading ./rec.sport.baseball.txt\n",
      "Saving 10859 unique words\n",
      "saved...\n",
      "Time to preprocess all files: 59.3627552986145\n",
      "['stanki', 'kozierok', 'aprwoodsulowelledu', 'spelled', 'batterrunn', 'tab', 'klein', 'glamor', 'electricalcomput', 'reboulet', 'prophesi', 'closer', 'shaki', 'rendel', 'metro', 'dogs', 'earliest', 'williams', 'condemn', 'join', 'bob', 'profession', 'areamerica', 'wswin', 'phimorandini', 'spous', 'catandmouse', 'shield', 'benjamin', 'milhamilton', 'randallinformixcom', 'catchholdtheballstepoutoftheboxadjustchains', 'vincevaxisscluwoca', 'ramiriez', 'swoboda', 'fade', 'gupta', 'angels', 'simpson', 'marlin', 'oakdhenderson', 'forgotten', 'gnetcomcom', 'linear', 'arthoscop', 'bambam', 'steinfeldt', 'tube', 'chronicle', 'pensions', 'dxfpocwruedu', 'cheers', 'chopper', 'yah', 'fredericks', 'expos\\t\\t\\t\\ttoronto', 'showalter', 'cinrobert', 'patientpow', 'mcweekly', 'melman', 'gordon', 'blech', 'world', 'article\\tan', 'torque', 'stripe', 'ought', 'peril', 'fancy', 'pluss', 'combat', 'resend', 'naiv', 'lake', 'appear', 'project', 'awar', 'ezdaleucdavisedu', 'chairu', 'themth', 'baseb', 'oop', 'dixon', 'illinoi', 'whitson', 'you', 'tektronix', 'less', 'dettettleton', 'bruno', 'leftturn', 'apart', 'ballyard', 'marathon', 'specimen', 'steinman', 'eastern', 'beastmaster', 'skip']\n"
     ]
    }
   ],
   "source": [
    "# define globals\n",
    "N_DOCUMENTS = 0\n",
    "\n",
    "print('Welcome to Preprocessing')\n",
    "files = [\n",
    "    './rec.sport.baseball.txt'\n",
    "]\n",
    "    \n",
    "t0 = time.time()\n",
    "N_DOCUMENTS = len(files)\n",
    "vocabulary = loadCorpus(files)\n",
    "print('Time to preprocess all files:', (time.time()-t0))\n",
    "print(list(vocabulary)[:100])"
   ]
  },
  {
   "cell_type": "code",
   "execution_count": 248,
   "metadata": {
    "scrolled": true
   },
   "outputs": [
    {
     "name": "stdout",
     "output_type": "stream",
     "text": [
      "reading...\n",
      "609747 tokens loaded\n",
      "0.003304649305367636\n",
      "0.6898479796081279\n",
      "0.002279705646621267\n",
      "Representations calculated\n"
     ]
    }
   ],
   "source": [
    "# !important Set here the number of documents\n",
    "n_documents = 2\n",
    "\n",
    "print('reading...')\n",
    "data_f = open('tokens_vector.pkl', 'rb')\n",
    "DATASET = pickle.load(data_f)\n",
    "print(len(DATASET), 'tokens loaded')\n",
    "\n",
    "tf = tf_scores(DATASET)\n",
    "\n",
    "idf = idf_scores(DATASET, tf, n_documents)\n",
    "\n",
    "tfidf = tfidf_scores(DATASET, tf, idf)\n",
    "print(tf['year'])\n",
    "print(idf['year'])\n",
    "print(tfidf['year'])\n",
    "print('Representations calculated')"
   ]
  },
  {
   "cell_type": "code",
   "execution_count": 271,
   "metadata": {},
   "outputs": [
    {
     "data": {
      "image/png": "[encoded data removed]",
      "text/plain": [
       "<matplotlib.figure.Figure at 0x7f5224a1e5c0>"
      ]
     },
     "metadata": {},
     "output_type": "display_data"
    }
   ],
   "source": [
    "# --------------- TF PARAMETERS ---------- #\n",
    "\n",
    "# Create a subplot with 1 row and 2 columns\n",
    "fig, (ax1, ax2) = plt.subplots(1, 2)\n",
    "fig.set_size_inches(18, 7)\n",
    "\n",
    "h_tf = sorted(tf.items(), key=lambda x: x[1], reverse=True)\n",
    "ax1.plot( list(map(lambda x: x[1], h_tf)) )\n",
    "ax1.set_title('Tf Scores')\n",
    " \n",
    "ax2.plot( list(filter( lambda y: y >= 0.001 ,map(lambda x: x[1], h_tf)) )  )\n",
    "ax2.set_title('Tf Parameters : min 0.001 x max 0.004')\n",
    "plt.show()"
   ]
  },
  {
   "cell_type": "code",
   "execution_count": 219,
   "metadata": {},
   "outputs": [
    {
     "data": {
      "image/png": "[encoded data removed]",
      "text/plain": [
       "<matplotlib.figure.Figure at 0x7f52265f0a90>"
      ]
     },
     "metadata": {},
     "output_type": "display_data"
    }
   ],
   "source": [
    "# --------------- TFIDF PARAMETERS ---------- #\n",
    "\n",
    "# Create a subplot with 1 row and 2 columns\n",
    "fig, (ax1, ax2) = plt.subplots(1, 2)\n",
    "fig.set_size_inches(18, 7)\n",
    "\n",
    "h_tfidf = sorted(tfidf.items(), key=lambda x: x[1], reverse=True)\n",
    "ax1.plot( list(map(lambda x: x[1], h_tfidf)) )\n",
    "ax1.set_title('TfIdf Scores')\n",
    " \n",
    "plt.plot( list(filter( lambda y: y > 0.0001 and y <= 0.001 ,map(lambda x: x[1], h_tfidf)) )  )\n",
    "ax2.set_title('TfIdf Parameters : min 0.0001 x max 0.001')\n",
    "plt.show()\n",
    "\n",
    "plt.show()"
   ]
  },
  {
   "cell_type": "code",
   "execution_count": 273,
   "metadata": {},
   "outputs": [
    {
     "name": "stdout",
     "output_type": "stream",
     "text": [
      "saving tf...\n",
      "building matrix\n",
      "20148 features initally\n",
      "151 features filtered\n",
      "saving tf matrix...\n",
      "saved\n",
      "took 383.21473455429077\n",
      "writing tfidf...\n",
      "building matrix\n",
      "20148 features initally\n",
      "1195 features filtered\n",
      "saving tfidf matrix...\n",
      "saved\n",
      "took 17.21973180770874 seconds\n"
     ]
    }
   ],
   "source": [
    "# SAVE ALL PICKLES\n",
    "#t0 = time.time()\n",
    "print('saving tf...')\n",
    "writeTf(DATASET[:1000], tf)\n",
    "print('took', (time.time()-t0))\n",
    "\n",
    "t0 = time.time()\n",
    "print('writing tfidf...')\n",
    "writeTfIdf(DATASET[:1000], tfidf)\n",
    "print('took', time.time()-t0, 'seconds')"
   ]
  },
  {
   "cell_type": "code",
   "execution_count": null,
   "metadata": {},
   "outputs": [],
   "source": []
  }
 ],
 "metadata": {
  "kernelspec": {
   "display_name": "Python 3",
   "language": "python",
   "name": "python3"
  },
  "language_info": {
   "codemirror_mode": {
    "name": "ipython",
    "version": 3
   },
   "file_extension": ".py",
   "mimetype": "text/x-python",
   "name": "python",
   "nbconvert_exporter": "python",
   "pygments_lexer": "ipython3",
   "version": "3.6.4"
  }
 },
 "nbformat": 4,
 "nbformat_minor": 2
}
