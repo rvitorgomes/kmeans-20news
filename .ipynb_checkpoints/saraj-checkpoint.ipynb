{
 "cells": [
  {
   "cell_type": "code",
   "execution_count": 5,
   "metadata": {},
   "outputs": [
    {
     "name": "stdout",
     "output_type": "stream",
     "text": [
      "centroids 1 [ 29.47597295  45.50276619]\n"
     ]
    },
    {
     "data": {
      "image/png": "[encoded data removed]",
      "text/plain": [
       "<matplotlib.figure.Figure at 0x23a640509e8>"
      ]
     },
     "metadata": {},
     "output_type": "display_data"
    },
    {
     "name": "stdout",
     "output_type": "stream",
     "text": [
      "centroids 1 [ 55.17301636  -6.74483033]\n"
     ]
    },
    {
     "ename": "NameError",
     "evalue": "name 'time' is not defined",
     "output_type": "error",
     "traceback": [
      "\u001b[1;31m---------------------------------------------------------------------------\u001b[0m",
      "\u001b[1;31mNameError\u001b[0m                                 Traceback (most recent call last)",
      "\u001b[1;32m<ipython-input-5-c97a9bfec436>\u001b[0m in \u001b[0;36m<module>\u001b[1;34m()\u001b[0m\n\u001b[0;32m     86\u001b[0m     \u001b[0mplot\u001b[0m\u001b[1;33m(\u001b[0m\u001b[0mdataset\u001b[0m\u001b[1;33m,\u001b[0m \u001b[0mhistory_centroids\u001b[0m\u001b[1;33m,\u001b[0m \u001b[0mbelongs_to\u001b[0m\u001b[1;33m)\u001b[0m\u001b[1;33m\u001b[0m\u001b[0m\n\u001b[0;32m     87\u001b[0m \u001b[1;33m\u001b[0m\u001b[0m\n\u001b[1;32m---> 88\u001b[1;33m \u001b[0mexecute\u001b[0m\u001b[1;33m(\u001b[0m\u001b[1;33m)\u001b[0m\u001b[1;33m\u001b[0m\u001b[0m\n\u001b[0m",
      "\u001b[1;32m<ipython-input-5-c97a9bfec436>\u001b[0m in \u001b[0;36mexecute\u001b[1;34m()\u001b[0m\n\u001b[0;32m     84\u001b[0m     \u001b[0mdataset\u001b[0m \u001b[1;33m=\u001b[0m \u001b[0mdf\u001b[0m\u001b[1;33m.\u001b[0m\u001b[0mvalues\u001b[0m\u001b[1;33m\u001b[0m\u001b[0m\n\u001b[0;32m     85\u001b[0m     \u001b[0mcentroids\u001b[0m\u001b[1;33m,\u001b[0m \u001b[0mhistory_centroids\u001b[0m\u001b[1;33m,\u001b[0m \u001b[0mbelongs_to\u001b[0m \u001b[1;33m=\u001b[0m \u001b[0mkmeans\u001b[0m\u001b[1;33m(\u001b[0m\u001b[1;36m2\u001b[0m\u001b[1;33m)\u001b[0m\u001b[1;33m\u001b[0m\u001b[0m\n\u001b[1;32m---> 86\u001b[1;33m     \u001b[0mplot\u001b[0m\u001b[1;33m(\u001b[0m\u001b[0mdataset\u001b[0m\u001b[1;33m,\u001b[0m \u001b[0mhistory_centroids\u001b[0m\u001b[1;33m,\u001b[0m \u001b[0mbelongs_to\u001b[0m\u001b[1;33m)\u001b[0m\u001b[1;33m\u001b[0m\u001b[0m\n\u001b[0m\u001b[0;32m     87\u001b[0m \u001b[1;33m\u001b[0m\u001b[0m\n\u001b[0;32m     88\u001b[0m \u001b[0mexecute\u001b[0m\u001b[1;33m(\u001b[0m\u001b[1;33m)\u001b[0m\u001b[1;33m\u001b[0m\u001b[0m\n",
      "\u001b[1;32m<ipython-input-5-c97a9bfec436>\u001b[0m in \u001b[0;36mplot\u001b[1;34m(dataset, history_centroids, belongs_to)\u001b[0m\n\u001b[0;32m     32\u001b[0m                 \u001b[0mprint\u001b[0m\u001b[1;33m(\u001b[0m\u001b[1;34m\"centroids {} {}\"\u001b[0m\u001b[1;33m.\u001b[0m\u001b[0mformat\u001b[0m\u001b[1;33m(\u001b[0m\u001b[0mindex\u001b[0m\u001b[1;33m,\u001b[0m \u001b[0mitem\u001b[0m\u001b[1;33m)\u001b[0m\u001b[1;33m)\u001b[0m\u001b[1;33m\u001b[0m\u001b[0m\n\u001b[0;32m     33\u001b[0m \u001b[1;33m\u001b[0m\u001b[0m\n\u001b[1;32m---> 34\u001b[1;33m                 \u001b[0mplt\u001b[0m\u001b[1;33m.\u001b[0m\u001b[0mpause\u001b[0m\u001b[1;33m(\u001b[0m\u001b[1;36m0.8\u001b[0m\u001b[1;33m)\u001b[0m\u001b[1;33m\u001b[0m\u001b[0m\n\u001b[0m\u001b[0;32m     35\u001b[0m \u001b[1;33m\u001b[0m\u001b[0m\n\u001b[0;32m     36\u001b[0m \u001b[1;33m\u001b[0m\u001b[0m\n",
      "\u001b[1;32mC:\\ProgramData\\Anaconda3\\lib\\site-packages\\matplotlib\\pyplot.py\u001b[0m in \u001b[0;36mpause\u001b[1;34m(interval)\u001b[0m\n\u001b[0;32m    292\u001b[0m         \u001b[0mcanvas\u001b[0m\u001b[1;33m.\u001b[0m\u001b[0mstart_event_loop\u001b[0m\u001b[1;33m(\u001b[0m\u001b[0minterval\u001b[0m\u001b[1;33m)\u001b[0m\u001b[1;33m\u001b[0m\u001b[0m\n\u001b[0;32m    293\u001b[0m     \u001b[1;32melse\u001b[0m\u001b[1;33m:\u001b[0m\u001b[1;33m\u001b[0m\u001b[0m\n\u001b[1;32m--> 294\u001b[1;33m         \u001b[0mtime\u001b[0m\u001b[1;33m.\u001b[0m\u001b[0msleep\u001b[0m\u001b[1;33m(\u001b[0m\u001b[0minterval\u001b[0m\u001b[1;33m)\u001b[0m\u001b[1;33m\u001b[0m\u001b[0m\n\u001b[0m\u001b[0;32m    295\u001b[0m \u001b[1;33m\u001b[0m\u001b[0m\n\u001b[0;32m    296\u001b[0m \u001b[1;33m\u001b[0m\u001b[0m\n",
      "\u001b[1;31mNameError\u001b[0m: name 'time' is not defined"
     ]
    }
   ],
   "source": [
    "import numpy as np\n",
    "import matplotlib.pyplot as plt\n",
    "import matplotlib.animation as animation\n",
    "\n",
    "\n",
    "def load_dataset(name):\n",
    "    return np.loadtxt(name)\n",
    "\n",
    "\n",
    "def euclidian(a, b):\n",
    "    return np.linalg.norm(a-b)\n",
    "\n",
    "\n",
    "def plot(dataset, history_centroids, belongs_to):\n",
    "    colors = ['r', 'g']\n",
    "\n",
    "    fig, ax = plt.subplots()\n",
    "\n",
    "    for index in range(dataset.shape[0]):\n",
    "        instances_close = [i for i in range(len(belongs_to)) if belongs_to[i] == index]\n",
    "        for instance_index in instances_close:\n",
    "            ax.plot(dataset[instance_index][0], dataset[instance_index][1], (colors[index] + 'o'))\n",
    "\n",
    "    history_points = []\n",
    "    for index, centroids in enumerate(history_centroids):\n",
    "        for inner, item in enumerate(centroids):\n",
    "            if index == 0:\n",
    "                history_points.append(ax.plot(item[0], item[1], 'bo')[0])\n",
    "            else:\n",
    "                history_points[inner].set_data(item[0], item[1])\n",
    "                print(\"centroids {} {}\".format(index, item))\n",
    "\n",
    "                plt.pause(0.8)\n",
    "\n",
    "\n",
    "def kmeans(k, epsilon=0, distance='euclidian'):\n",
    "    history_centroids = []\n",
    "    if distance == 'euclidian':\n",
    "        dist_method = euclidian\n",
    "    dataset = load_dataset('durudataset.txt')\n",
    "    # dataset = dataset[:, 0:dataset.shape[1] - 1]\n",
    "    num_instances, num_features = dataset.shape\n",
    "    prototypes = dataset[np.random.randint(0, num_instances - 1, size=k)]\n",
    "    history_centroids.append(prototypes)\n",
    "    prototypes_old = np.zeros(prototypes.shape)\n",
    "    belongs_to = np.zeros((num_instances, 1))\n",
    "    norm = dist_method(prototypes, prototypes_old)\n",
    "    iteration = 0\n",
    "    while norm > epsilon:\n",
    "        iteration += 1\n",
    "        norm = dist_method(prototypes, prototypes_old)\n",
    "        prototypes_old = prototypes\n",
    "        for index_instance, instance in enumerate(dataset):\n",
    "            dist_vec = np.zeros((k, 1))\n",
    "            for index_prototype, prototype in enumerate(prototypes):\n",
    "                dist_vec[index_prototype] = dist_method(prototype,\n",
    "                                                        instance)\n",
    "\n",
    "            belongs_to[index_instance, 0] = np.argmin(dist_vec)\n",
    "\n",
    "        tmp_prototypes = np.zeros((k, num_features))\n",
    "\n",
    "        for index in range(len(prototypes)):\n",
    "            instances_close = [i for i in range(len(belongs_to)) if belongs_to[i] == index]\n",
    "            prototype = np.mean(dataset[instances_close], axis=0)\n",
    "            # prototype = dataset[np.random.randint(0, num_instances, size=1)[0]]\n",
    "            tmp_prototypes[index, :] = prototype\n",
    "\n",
    "        prototypes = tmp_prototypes\n",
    "\n",
    "        history_centroids.append(tmp_prototypes)\n",
    "\n",
    "    # plot(dataset, history_centroids, belongs_to)\n",
    "\n",
    "    return prototypes, history_centroids, belongs_to\n",
    "\n",
    "\n",
    "def execute():\n",
    "    dataset = load_dataset('durudataset.txt')\n",
    "    centroids, history_centroids, belongs_to = kmeans(2)\n",
    "    plot(dataset, history_centroids, belongs_to)\n",
    "\n",
    "execute()"
   ]
  }
 ],
 "metadata": {
  "kernelspec": {
   "display_name": "Python 3",
   "language": "python",
   "name": "python3"
  },
  "language_info": {
   "codemirror_mode": {
    "name": "ipython",
    "version": 3
   },
   "file_extension": ".py",
   "mimetype": "text/x-python",
   "name": "python",
   "nbconvert_exporter": "python",
   "pygments_lexer": "ipython3",
   "version": "3.6.3"
  }
 },
 "nbformat": 4,
 "nbformat_minor": 2
}
